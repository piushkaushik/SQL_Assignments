{
 "cells": [
  {
   "cell_type": "markdown",
   "id": "bd3f4db4",
   "metadata": {},
   "source": [
    "## Q-1. Write an SQL query to print the FIRST_NAME from Worker table after replacing ‘a’ with ‘A’."
   ]
  },
  {
   "cell_type": "markdown",
   "id": "7dd35685",
   "metadata": {},
   "source": [
    "\n",
    "\n",
    "```sql\n",
    "SELECT REPLACE(FIRST_NAME, 'a', 'A') AS UPDATED_FIRST_NAME\n",
    "FROM Worker;\n",
    "```\n"
   ]
  },
  {
   "cell_type": "markdown",
   "id": "9920d98c",
   "metadata": {},
   "source": [
    "## Q-2. Write an SQL query to print all Worker details from the Worker table order by FIRST_NAME Ascending and DEPARTMENT Descending."
   ]
  },
  {
   "cell_type": "markdown",
   "id": "8e1e75a8",
   "metadata": {},
   "source": [
    "\n",
    "```sql\n",
    "SELECT *\n",
    "FROM Worker\n",
    "ORDER BY FIRST_NAME ASC, DEPARTMENT DESC;\n",
    "```\n"
   ]
  },
  {
   "cell_type": "markdown",
   "id": "88eb9354",
   "metadata": {},
   "source": [
    "## Q-3. Write an SQL query to fetch the names of workers who earn the highest salary."
   ]
  },
  {
   "cell_type": "markdown",
   "id": "5784813f",
   "metadata": {},
   "source": [
    "\n",
    "\n",
    "```sql\n",
    "SELECT FIRST_NAME, SALARY\n",
    "FROM Worker\n",
    "WHERE SALARY = (SELECT MAX(SALARY) FROM Worker);\n",
    "```\n"
   ]
  },
  {
   "cell_type": "code",
   "execution_count": null,
   "id": "d9559a73",
   "metadata": {},
   "outputs": [],
   "source": []
  }
 ],
 "metadata": {
  "kernelspec": {
   "display_name": "Python 3 (ipykernel)",
   "language": "python",
   "name": "python3"
  },
  "language_info": {
   "codemirror_mode": {
    "name": "ipython",
    "version": 3
   },
   "file_extension": ".py",
   "mimetype": "text/x-python",
   "name": "python",
   "nbconvert_exporter": "python",
   "pygments_lexer": "ipython3",
   "version": "3.9.7"
  }
 },
 "nbformat": 4,
 "nbformat_minor": 5
}
