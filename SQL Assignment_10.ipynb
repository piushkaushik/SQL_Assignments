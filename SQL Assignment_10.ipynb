{
 "cells": [
  {
   "cell_type": "markdown",
   "id": "92b79773",
   "metadata": {},
   "source": [
    "## Q-19. Write an SQL query to determine the 5th highest salary without using TOP or limit method."
   ]
  },
  {
   "cell_type": "markdown",
   "id": "9167fad1",
   "metadata": {},
   "source": [
    "\n",
    "```sql\n",
    "WITH RankedSalaries AS (\n",
    "  SELECT\n",
    "    Salary,\n",
    "    DENSE_RANK() OVER (ORDER BY Salary DESC) AS SalaryRank\n",
    "  FROM YourTable\n",
    ")\n",
    "SELECT DISTINCT Salary\n",
    "FROM RankedSalaries\n",
    "WHERE SalaryRank = 5;\n",
    "```\n"
   ]
  },
  {
   "cell_type": "markdown",
   "id": "2c068d96",
   "metadata": {},
   "source": [
    "## Q-20. Write an SQL query to fetch the list of employees with the same salary."
   ]
  },
  {
   "cell_type": "markdown",
   "id": "e2f99db9",
   "metadata": {},
   "source": [
    "\n",
    "\n",
    "```sql\n",
    "SELECT Salary, COUNT(*) AS EmployeeCount\n",
    "FROM YourTable\n",
    "GROUP BY Salary\n",
    "HAVING COUNT(*) > 1;\n",
    "```\n"

