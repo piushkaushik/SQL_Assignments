{
 "cells": [
  {
   "cell_type": "markdown",
   "id": "be554228",
   "metadata": {},
   "source": [
    "## Q-15. Write an SQL query to fetch intersecting records of two tables."
   ]
  },
  {
   "cell_type": "markdown",
   "id": "7b28437a",
   "metadata": {},
   "source": [
    "\n",
    "```sql\n",
    "SELECT * FROM Table1\n",
    "INTERSECT\n",
    "SELECT * FROM Table2;\n",
    "```\n"
   ]
  },
  {
   "cell_type": "markdown",
   "id": "2d339b1f",
   "metadata": {},
   "source": [
    "## Q-16. Write an SQL query to show records from one table that another table does not have."
   ]
  },
  {
   "cell_type": "markdown",
   "id": "e70dab19",
   "metadata": {},
   "source": [
    "#### Using `NOT EXISTS` clause:\n",
    "\n",
    "```sql\n",
    "SELECT *\n",
    "FROM Table1\n",
    "WHERE NOT EXISTS (\n",
    "    SELECT 1\n",
    "    FROM Table2\n",
    "    WHERE Table2.CommonColumn = Table1.CommonColumn\n",
    ");\n",
    "```\n"
   ]
  },
  {
   "cell_type": "markdown",
   "id": "68ced84b",
   "metadata": {},
   "source": [
    "#### Using `NOT IN`  clause:\n",
    "\n",
    "```sql\n",
    "SELECT *\n",
    "FROM Table1\n",
    "WHERE CommonColumn NOT IN (\n",
    "    SELECT CommonColumn\n",
    "    FROM Table2\n",
    "    WHERE CommonColumn IS NOT NULL\n",
    ");\n",
    "```\n",
    "\n"
   ]
  },
  {
   "cell_type": "code",
   "execution_count": null,
   "id": "60083b4b",
   "metadata": {},
   "outputs": [],
   "source": []
  }
 ],
 "metadata": {
  "kernelspec": {
   "display_name": "Python 3 (ipykernel)",
   "language": "python",
   "name": "python3"
  },
  "language_info": {
   "codemirror_mode": {
    "name": "ipython",
    "version": 3
   },
   "file_extension": ".py",
   "mimetype": "text/x-python",
   "name": "python",
   "nbconvert_exporter": "python",
   "pygments_lexer": "ipython3",
   "version": "3.9.7"
  }
 },
 "nbformat": 4,
 "nbformat_minor": 5
}
