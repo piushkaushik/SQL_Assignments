{
 "cells": [
  {
   "cell_type": "markdown",
   "id": "9feda24c",
   "metadata": {},
   "source": [
    "## Q-17. Write an SQL query to show the top n (say 10) records of a table."
   ]
  },
  {
   "cell_type": "markdown",
   "id": "c6c27f2c",
   "metadata": {},
   "source": [
    "\n",
    "\n",
    "```sql\n",
    "SELECT *\n",
    "FROM YourTable\n",
    "LIMIT 10;\n",
    "```\n",
    "\n"
   ]
  },
  {
   "cell_type": "markdown",
   "id": "e2e72410",
   "metadata": {},
   "source": [
    "## Q-18. Write an SQL query to determine the nth (say n=5) highest salary from a table."
   ]
  },
  {
   "cell_type": "markdown",
   "id": "5efc59e6",
   "metadata": {},
   "source": [
    "\n",
    "```sql\n",
    "SELECT DISTINCT Salary\n",
    "FROM YourTable\n",
    "ORDER BY Salary DESC\n",
    "LIMIT 1 OFFSET 4;\n",
    "```\n",
    "\n"
   ]
  },
  {
   "cell_type": "code",
   "execution_count": null,
   "id": "c305d35a",
   "metadata": {},
   "outputs": [],
   "source": []
  }
 ],
 "metadata": {
  "kernelspec": {
   "display_name": "Python 3 (ipykernel)",
   "language": "python",
   "name": "python3"
  },
  "language_info": {
   "codemirror_mode": {
    "name": "ipython",
    "version": 3
   },
   "file_extension": ".py",
   "mimetype": "text/x-python",
   "name": "python",
   "nbconvert_exporter": "python",
   "pygments_lexer": "ipython3",
   "version": "3.9.7"
  }
 },
 "nbformat": 4,
 "nbformat_minor": 5
}
