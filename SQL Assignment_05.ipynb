{
 "cells": [
  {
   "cell_type": "markdown",
   "id": "62a15a17",
   "metadata": {},
   "source": [
    "## Q-1. Write an SQL query to print details of workers excluding first names, “Vipul” and “Satish” from Worker table."
   ]
  },
  {
   "cell_type": "markdown",
   "id": "72af13a3",
   "metadata": {},
   "source": [
    "\n",
    "```sql\n",
    "SELECT *\n",
    "FROM Worker\n",
    "WHERE FIRST_NAME NOT IN ('Vipul', 'Satish');\n",
    "```\n"
   ]
  },
  {
   "cell_type": "markdown",
   "id": "abc30398",
   "metadata": {},
   "source": [
    "## Q-2. Write an SQL query to print details of the Workers whose FIRST_NAME ends with ‘h’ and contains six alphabets."
   ]
  },
  {
   "cell_type": "markdown",
   "id": "b3c4a173",
   "metadata": {},
   "source": [
    "\n",
    "\n",
    "```sql\n",
    "SELECT *\n",
    "FROM Worker\n",
    "WHERE FIRST_NAME LIKE '______h'; -- 6 underscores before 'h'\n",
    "```\n"
   ]
  },
  {
   "cell_type": "markdown",
   "id": "b10fb6ec",
   "metadata": {},
   "source": [
    "## Q-3. Write a query to validate Email of Employee."
   ]
  },
  {
   "cell_type": "markdown",
   "id": "1c31b2c8",
   "metadata": {},
   "source": [
    "\n",
    "```sql\n",
    "SELECT *\n",
    "FROM Employee\n",
    "WHERE Email LIKE '%@%.%';\n",
    "```\n",
    "\n"
   ]
  },
  {
   "cell_type": "code",
   "execution_count": null,
   "id": "7614a9bb",
   "metadata": {},
   "outputs": [],
   "source": [
    "    "
   ]
  }
 ],
 "metadata": {
  "kernelspec": {
   "display_name": "Python 3 (ipykernel)",
   "language": "python",
   "name": "python3"
  },
  "language_info": {
   "codemirror_mode": {
    "name": "ipython",
    "version": 3
   },
   "file_extension": ".py",
   "mimetype": "text/x-python",
   "name": "python",
   "nbconvert_exporter": "python",
   "pygments_lexer": "ipython3",
   "version": "3.9.7"
  }
 },
 "nbformat": 4,
 "nbformat_minor": 5
}
