{
 "cells": [
  {
   "cell_type": "markdown",
   "id": "2f30c9a1",
   "metadata": {},
   "source": [
    "## Q-1. Write an SQL query to print details of the Workers who have joined in Feb’2014."
   ]
  },
  {
   "cell_type": "markdown",
   "id": "f8ba2f52",
   "metadata": {},
   "source": [
    "\n",
    "```sql\n",
    "SELECT *\n",
    "FROM Worker\n",
    "WHERE MONTH(Joining_Date) = 2 AND YEAR(Joining_Date) = 2014;\n",
    "```\n"
   ]
  },
  {
   "cell_type": "markdown",
   "id": "31d2aa9d",
   "metadata": {},
   "source": [
    "## Q-2. Write an SQL query to fetch duplicate records having matching data in some fields of a table."
   ]
  },
  {
   "cell_type": "markdown",
   "id": "48cd6cb2",
   "metadata": {},
   "source": [
    "\n",
    "```sql\n",
    "SELECT field1, field2, COUNT(*)\n",
    "FROM YourTable\n",
    "GROUP BY field1, field2\n",
    "HAVING COUNT(*) > 1;\n",
    "```\n"
   ]
  },
  {
   "cell_type": "markdown",
   "id": "c5ad98e1",
   "metadata": {},
   "source": [
    "## Q-3. How to remove duplicate rows from Employees table."
   ]
  },
  {
   "cell_type": "markdown",
   "id": "579190bb",
   "metadata": {},
   "source": [
    "\n",
    "```sql\n",
    "WITH DuplicateCTE AS (\n",
    "    SELECT \n",
    "        *,\n",
    "        ROW_NUMBER() OVER (PARTITION BY field1, field2, ... ORDER BY (SELECT NULL)) AS RowNum\n",
    "    FROM Employees\n",
    ")\n",
    "DELETE FROM DuplicateCTE WHERE RowNum > 1;\n",
    "```\n",
    "\n"
   ]
  },
  {
   "cell_type": "code",
   "execution_count": null,
   "id": "84fb265f",
   "metadata": {},
   "outputs": [],
   "source": []
  }
 ],
 "metadata": {
  "kernelspec": {
   "display_name": "Python 3 (ipykernel)",
   "language": "python",
   "name": "python3"
  },
  "language_info": {
   "codemirror_mode": {
    "name": "ipython",
    "version": 3
   },
   "file_extension": ".py",
   "mimetype": "text/x-python",
   "name": "python",
   "nbconvert_exporter": "python",
   "pygments_lexer": "ipython3",
   "version": "3.9.7"
  }
 },
 "nbformat": 4,
 "nbformat_minor": 5
}
