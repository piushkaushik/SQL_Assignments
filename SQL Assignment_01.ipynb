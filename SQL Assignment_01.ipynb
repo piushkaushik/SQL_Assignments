{
 "cells": [
  {
   "cell_type": "markdown",
   "id": "0bd93cf2",
   "metadata": {},
   "source": [
    "## Q-1. Write an SQL query to fetch “FIRST_NAME” from Worker table using the alias name as <WORKER_NAME>."
   ]
  },
  {
   "cell_type": "markdown",
   "id": "8de425eb",
   "metadata": {},
   "source": [
    "\n",
    "\n",
    "```sql\n",
    "SELECT FIRST_NAME AS WORKER_NAME\n",
    "FROM Worker;\n",
    "```\n",
    "\n"
   ]
  },
  {
   "cell_type": "markdown",
   "id": "b12d22a6",
   "metadata": {},
   "source": [
    "## Q-2. Write an SQL query to fetch unique values of DEPARTMENT from Worker table."
   ]
  },
  {
   "cell_type": "markdown",
   "id": "17d1143d",
   "metadata": {},
   "source": [
    "\n",
    "```sql\n",
    "SELECT DISTINCT DEPARTMENT\n",
    "FROM Worker;\n",
    "```\n",
    "\n"
   ]
  },
  {
   "cell_type": "markdown",
   "id": "7da4032a",
   "metadata": {},
   "source": [
    "## Q-3. Write an SQL query to show the last 5 record from a table."
   ]
  },
  {
   "cell_type": "markdown",
   "id": "4a650370",
   "metadata": {},
   "source": [
    "\n",
    "\n",
    "```sql\n",
    "SELECT *\n",
    "FROM YourTableName\n",
    "ORDER BY ID DESC\n",
    "LIMIT 5;\n",
    "```\n",
    "\n"
   ]
  },
  {
   "cell_type": "code",
   "execution_count": null,
   "id": "96201afd",
   "metadata": {},
   "outputs": [],
   "source": []
  }
 ],
 "metadata": {
  "kernelspec": {
   "display_name": "Python 3 (ipykernel)",
   "language": "python",
   "name": "python3"
  },
  "language_info": {
   "codemirror_mode": {
    "name": "ipython",
    "version": 3
   },
   "file_extension": ".py",
   "mimetype": "text/x-python",
   "name": "python",
   "nbconvert_exporter": "python",
   "pygments_lexer": "ipython3",
   "version": "3.9.7"
  }
 },
 "nbformat": 4,
 "nbformat_minor": 5
}
