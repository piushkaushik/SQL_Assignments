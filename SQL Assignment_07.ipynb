{
 "cells": [
  {
   "cell_type": "markdown",
   "id": "f9429e1b",
   "metadata": {},
   "source": [
    "## Q-13. Write an SQL query to show only odd rows from a table."
   ]
  },
  {
   "cell_type": "markdown",
   "id": "95212bcd",
   "metadata": {},
   "source": [
    "\n",
    "\n",
    "```sql\n",
    "WITH OddRows AS (\n",
    "    SELECT \n",
    "        *,\n",
    "        ROW_NUMBER() OVER (ORDER BY (SELECT NULL)) AS RowNum\n",
    "    FROM YourTable\n",
    ")\n",
    "SELECT *\n",
    "FROM OddRows\n",
    "WHERE RowNum % 2 <> 0;\n",
    "```\n"
   ]
  },
  {
   "cell_type": "markdown",
   "id": "1ccd06b3",
   "metadata": {},
   "source": [
    "## Q-14. Write an SQL query to clone a new table from another table."
   ]
  },
  {
   "cell_type": "markdown",
   "id": "5e6cd023",
   "metadata": {},
   "source": [
    "\n",
    "```sql\n",
    "-- Create a new table with the same structure as the original table\n",
    "CREATE TABLE NewTable AS\n",
    "SELECT * FROM OriginalTable;\n",
    "```\n",
    "\n"
   ]
  },
  {
   "cell_type": "code",
   "execution_count": null,
   "id": "fa665f3c",
   "metadata": {},
   "outputs": [],
   "source": []
  }
 ],
 "metadata": {
  "kernelspec": {
   "display_name": "Python 3 (ipykernel)",
   "language": "python",
   "name": "python3"
  },
  "language_info": {
   "codemirror_mode": {
    "name": "ipython",
    "version": 3
   },
   "file_extension": ".py",
   "mimetype": "text/x-python",
   "name": "python",
   "nbconvert_exporter": "python",
   "pygments_lexer": "ipython3",
   "version": "3.9.7"
  }
 },
 "nbformat": 4,
 "nbformat_minor": 5
}
