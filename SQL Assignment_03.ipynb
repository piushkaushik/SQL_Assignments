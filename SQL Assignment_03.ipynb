{
 "cells": [
  {
   "cell_type": "markdown",
   "id": "75a71b8b",
   "metadata": {},
   "source": [
    "## Q-1. Write an SQL query to print the FIRST_NAME from Worker table after removing white spaces from the right side."
   ]
  },
  {
   "cell_type": "markdown",
   "id": "8bd19885",
   "metadata": {},
   "source": [
    "\n",
    "```sql\n",
    "SELECT RTRIM(FIRST_NAME) AS TRIMMED_FIRST_NAME\n",
    "FROM Worker;\n",
    "```\n"
   ]
  },
  {
   "cell_type": "markdown",
   "id": "d233351e",
   "metadata": {},
   "source": [
    "## Q-2. Write an SQL query that fetches the unique values of DEPARTMENT from Worker table and prints its length."
   ]
  },
  {
   "cell_type": "markdown",
   "id": "f0064c8f",
   "metadata": {},
   "source": [
    "\n",
    "\n",
    "```sql\n",
    "SELECT DISTINCT DEPARTMENT, LENGTH(DEPARTMENT) AS DEPARTMENT_LENGTH\n",
    "FROM Worker;\n",
    "```\n"
   ]
  },
  {
   "cell_type": "markdown",
   "id": "c10a7f58",
   "metadata": {},
   "source": [
    "## Q-3. Write an SQL query to fetch nth max salaries from a table."
   ]
  },
  {
   "cell_type": "markdown",
   "id": "69205b42",
   "metadata": {},
   "source": [
    "\n",
    "```sql\n",
    "SELECT DISTINCT Salary\n",
    "FROM Worker\n",
    "ORDER BY Salary DESC\n",
    "LIMIT 1 OFFSET 1;\n",
    "```\n",
    "\n"
   ]
  },
  {
   "cell_type": "code",
   "execution_count": null,
   "id": "dce090ff",
   "metadata": {},
   "outputs": [],
   "source": []
  }
 ],
 "metadata": {
  "kernelspec": {
   "display_name": "Python 3 (ipykernel)",
   "language": "python",
   "name": "python3"
  },
  "language_info": {
   "codemirror_mode": {
    "name": "ipython",
    "version": 3
   },
   "file_extension": ".py",
   "mimetype": "text/x-python",
   "name": "python",
   "nbconvert_exporter": "python",
   "pygments_lexer": "ipython3",
   "version": "3.9.7"
  }
 },
 "nbformat": 4,
 "nbformat_minor": 5
}
