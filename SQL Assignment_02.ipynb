{
 "cells": [
  {
   "cell_type": "markdown",
   "id": "43f82ad3",
   "metadata": {},
   "source": [
    "## Q-1. Write an SQL query to print the first three characters of  FIRST_NAME from Worker table."
   ]
  },
  {
   "cell_type": "markdown",
   "id": "b4a18c2d",
   "metadata": {},
   "source": [
    "\n",
    "\n",
    "```sql\n",
    "SELECT SUBSTRING(FIRST_NAME, 1, 3) AS FIRST_THREE_CHARACTERS\n",
    "FROM Worker;\n",
    "```\n"
   ]
  },
  {
   "cell_type": "markdown",
   "id": "8a297a9c",
   "metadata": {},
   "source": [
    "## Q-2. Write an SQL query to find the position of the alphabet (‘a’) in the first name column ‘Amitabh’ from Worker table."
   ]
  },
  {
   "cell_type": "markdown",
   "id": "7d58be4a",
   "metadata": {},
   "source": [
    "\n",
    "\n",
    "```sql\n",
    "SELECT INSTR(FIRST_NAME, 'a') AS POSITION_OF_A\n",
    "FROM Worker\n",
    "WHERE FIRST_NAME = 'Amitabh';\n",
    "```\n",
    "\n"
   ]
  },
  {
   "cell_type": "markdown",
   "id": "639f3bb2",
   "metadata": {},
   "source": [
    "## Q-3. Write an SQL query to print the name of employees having the highest salary in each department."
   ]
  },
  {
   "cell_type": "markdown",
   "id": "e5bddb65",
   "metadata": {},
   "source": [
    "\n",
    "\n",
    "```sql\n",
    "WITH RankedSalaries AS (\n",
    "  SELECT\n",
    "    FIRST_NAME,\n",
    "    DEPARTMENT,\n",
    "    SALARY,\n",
    "    ROW_NUMBER() OVER (PARTITION BY DEPARTMENT ORDER BY SALARY DESC) AS SalaryRank\n",
    "  FROM\n",
    "    Worker\n",
    ")\n",
    "SELECT\n",
    "  FIRST_NAME,\n",
    "  DEPARTMENT,\n",
    "  SALARY\n",
    "FROM\n",
    "  RankedSalaries\n",
    "WHERE\n",
    "  SalaryRank = 1;\n",
    "```\n",
    "\n",
    "### Explanation:\n",
    "\n",
    "1. The `RankedSalaries` CTE uses the `ROW_NUMBER()` function to assign a rank to each employee within their department based on salary, ordered in descending order. The `PARTITION BY` clause is used to restart the numbering for each department.\n",
    "\n",
    "\n",
    "2. The main query then selects the employees with a rank of 1, which corresponds to the highest salary in each department.\n",
    "\n",
    "\n",
    "This query assumes that there are no ties for the highest salary within a department. If ties are possible and you want to include all employees with the highest salary, you can use the `RANK()` or `DENSE_RANK()` function instead of `ROW_NUMBER()`."
   ]
  },
  {
   "cell_type": "code",
   "execution_count": null,
   "id": "a28018c7",
   "metadata": {},
   "outputs": [],
   "source": []
  }
 ],
 "metadata": {
  "kernelspec": {
   "display_name": "Python 3 (ipykernel)",
   "language": "python",
   "name": "python3"
  },
  "language_info": {
   "codemirror_mode": {
    "name": "ipython",
    "version": 3
   },
   "file_extension": ".py",
   "mimetype": "text/x-python",
   "name": "python",
   "nbconvert_exporter": "python",
   "pygments_lexer": "ipython3",
   "version": "3.9.7"
  }
 },
 "nbformat": 4,
 "nbformat_minor": 5
}
